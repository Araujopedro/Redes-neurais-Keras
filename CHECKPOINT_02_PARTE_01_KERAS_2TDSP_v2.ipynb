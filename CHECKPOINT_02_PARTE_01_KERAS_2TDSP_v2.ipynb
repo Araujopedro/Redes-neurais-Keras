{
  "cells": [
    {
      "cell_type": "markdown",
      "id": "dc2dbf66",
      "metadata": {
        "id": "dc2dbf66"
      },
      "source": [
        "# **CHECKPOINT 02 (Parte 01): Modelos com Redes Neurais com Keras**\n",
        "\n",
        "## Disciplina:  Disruptive Architectures: IOT, IOB e GENERATIVE AI\n",
        "\n",
        "## Turmas: 2TDSP (2o semestre de 2024)\n",
        "\n",
        "## Professor: André Tritiack\n",
        "\n",
        "## Pontuação Máxima: 4.00 pontos"
      ]
    },
    {
      "cell_type": "markdown",
      "id": "KM1GMV_NAJU4",
      "metadata": {
        "id": "KM1GMV_NAJU4"
      },
      "source": [
        "## INSIRA NESSA CÉLULA O NOME E O RM DOS INTEGRANTES DO GRUPO\n",
        "\n",
        "\n",
        "\n",
        "\n",
        "\n",
        "\n",
        "\n"
      ]
    },
    {
      "cell_type": "markdown",
      "id": "YfxY2cMoAGno",
      "metadata": {
        "id": "YfxY2cMoAGno"
      },
      "source": [
        "# **Introdução**\n",
        "\n",
        "Durante o semestre, estudamos o uso de algoritmos de **Aprendizado de Máquina Supervisionado**.\n",
        "\n",
        "- Regressão Logística\n",
        "\n",
        "https://scikit-learn.org/stable/modules/generated/sklearn.linear_model.LogisticRegression.html\n",
        "\n",
        "- Naive Bayes\n",
        "\n",
        "https://scikit-learn.org/stable/modules/naive_bayes.html\n",
        "\n",
        "- Máquina de Vetor Suporte (SVM)\n",
        "\n",
        "https://scikit-learn.org/stable/modules/svm.html#classification\n",
        "\n",
        "- Árvore de Decisão (Decision Tree)\n",
        "\n",
        "https://scikit-learn.org/stable/modules/tree.html\n",
        "\n",
        "- Random Forest\n",
        "\n",
        "https://scikit-learn.org/stable/modules/generated/sklearn.ensemble.RandomForestClassifier.html\n",
        "\n",
        "Cada uma dessas técnicas tem uma forte base matemática e conceitual. Os algoritmos foram propostos ao longo de diversas décadas e possuem diferentes cenários de aplicações.\n",
        "\n",
        "Nos exercícios a seguir, você e seu grupo receberão conjuntos de dados e precisarão aplicar duas dessas técnicas em cada exercício, utilizando como métrica a acurácia.\n",
        "\n",
        "Em seguida, utilizando a biblioteca Keras, crie modelos de Redes Neurais para classificação e compare os resultados.\n",
        "\n",
        "Altere o número de neurônios, a quantidade de camadas e as funções de ativação para comparar os resultados.\n",
        "\n",
        "Use o exemplo demonstrado em aula para criar sua solução.\n",
        "\n",
        "Importante: Somente serão aceitos arquivos .ipynb comentados, com justificativas e conclusões sobre as implementações"
      ]
    },
    {
      "cell_type": "markdown",
      "id": "6758884b",
      "metadata": {
        "id": "6758884b"
      },
      "source": [
        "------------------\n",
        "## <font color='red'> Atenção</fonte>:\n",
        "\n",
        "A seguir são apresentados dois datasets de pessoas reais.\n",
        "\n",
        "Ao se trabalhar com dados de pessoas devemos considerar a origem e os preceitos **bioéticos** envolvidos em sua coleta, construção e utilização.\n",
        "\n",
        "Além disso, é boa prática que os dados estejam anonimizados."
      ]
    },
    {
      "cell_type": "markdown",
      "id": "b889d7fc",
      "metadata": {
        "id": "b889d7fc"
      },
      "source": [
        "----------------------\n",
        "# **QUESTÃO 01**\n",
        "\n",
        "## **Diagnóstico médico: Problemas Ortopédicos na Coluna Vertebral**\n",
        "\n",
        "Esse dataset contém dados sobre problemas ortopédicos na coluna vertebral, diagnosticados no Centre Médico-Chirurgical de Réadaptation des Massues, em Lyon, France. Contém 6 atributos biomecânicos para 310 entradas anonimizadas, sendo 100 de pacientes considerados sem problemas (Normal - NO), 60 de pacientes com Hérnia de Disco (Disk Hernia - DH) e 150 de pacientes com Espondilolistese (Spondylolisthesis - SL).\n",
        "\n",
        "O dataset foi disponibilizado em um arquivo .csv, em anexo da tarefa.\n",
        "\n",
        "Maiores informações disponíveis em https://www.openml.org/d/1523"
      ]
    },
    {
      "cell_type": "markdown",
      "id": "HdVEcF9ktMzy",
      "metadata": {
        "id": "HdVEcF9ktMzy"
      },
      "source": [
        "## Parte 1: Importação de bibliotecas"
      ]
    },
    {
      "cell_type": "code",
      "execution_count": null,
      "id": "pE1Mn8Wbs47R",
      "metadata": {
        "id": "pE1Mn8Wbs47R"
      },
      "outputs": [],
      "source": []
    },
    {
      "cell_type": "markdown",
      "id": "lyAO6Maku3f7",
      "metadata": {
        "id": "lyAO6Maku3f7"
      },
      "source": [
        "# Parte 2: Importação dos dados e Análise Exploratória\n"
      ]
    },
    {
      "cell_type": "code",
      "execution_count": null,
      "id": "_9bi1ygoyN97",
      "metadata": {
        "id": "_9bi1ygoyN97"
      },
      "outputs": [],
      "source": []
    },
    {
      "cell_type": "code",
      "execution_count": null,
      "id": "701cfb3c",
      "metadata": {
        "id": "701cfb3c"
      },
      "outputs": [],
      "source": []
    },
    {
      "cell_type": "code",
      "source": [],
      "metadata": {
        "id": "Kgb_RyS13HSF"
      },
      "id": "Kgb_RyS13HSF",
      "execution_count": null,
      "outputs": []
    },
    {
      "cell_type": "code",
      "source": [],
      "metadata": {
        "id": "nB735ftm3HJ3"
      },
      "id": "nB735ftm3HJ3",
      "execution_count": null,
      "outputs": []
    },
    {
      "cell_type": "markdown",
      "id": "8px5ow4dyi8q",
      "metadata": {
        "id": "8px5ow4dyi8q"
      },
      "source": [
        "# Parte 3: Pré Processamento\n",
        "\n",
        "\n"
      ]
    },
    {
      "cell_type": "code",
      "execution_count": null,
      "id": "e5MwbJYczyAv",
      "metadata": {
        "id": "e5MwbJYczyAv"
      },
      "outputs": [],
      "source": []
    },
    {
      "cell_type": "code",
      "execution_count": null,
      "id": "9bu7arnr1A2m",
      "metadata": {
        "id": "9bu7arnr1A2m"
      },
      "outputs": [],
      "source": []
    },
    {
      "cell_type": "code",
      "source": [],
      "metadata": {
        "id": "HMbdkDum26oq"
      },
      "id": "HMbdkDum26oq",
      "execution_count": null,
      "outputs": []
    },
    {
      "cell_type": "code",
      "source": [],
      "metadata": {
        "id": "pUYwrBcy26fS"
      },
      "id": "pUYwrBcy26fS",
      "execution_count": null,
      "outputs": []
    },
    {
      "cell_type": "markdown",
      "id": "QWN5ggIR1Pt1",
      "metadata": {
        "id": "QWN5ggIR1Pt1"
      },
      "source": [
        "# Parte 4: Criação das variáveis com os dados de entrada (X) e dados de saída (y) e separação de dados de treinamento e teste."
      ]
    },
    {
      "cell_type": "code",
      "execution_count": null,
      "id": "bb1129a8",
      "metadata": {
        "id": "bb1129a8"
      },
      "outputs": [],
      "source": []
    },
    {
      "cell_type": "code",
      "execution_count": null,
      "id": "vowBo3p12L2_",
      "metadata": {
        "id": "vowBo3p12L2_"
      },
      "outputs": [],
      "source": []
    },
    {
      "cell_type": "code",
      "execution_count": null,
      "id": "N9EHjvF-2Qsp",
      "metadata": {
        "id": "N9EHjvF-2Qsp"
      },
      "outputs": [],
      "source": []
    },
    {
      "cell_type": "code",
      "source": [],
      "metadata": {
        "id": "_qHxhRrD2kpe"
      },
      "id": "_qHxhRrD2kpe",
      "execution_count": null,
      "outputs": []
    },
    {
      "cell_type": "markdown",
      "id": "mgTiGQLa2HJE",
      "metadata": {
        "id": "mgTiGQLa2HJE"
      },
      "source": [
        "# Parte 5.1: Criação do primeiro modelo, utilizando o primeiro algoritmo.\n",
        "\n",
        "\n",
        "\n",
        "\n"
      ]
    },
    {
      "cell_type": "code",
      "execution_count": null,
      "id": "r3yTZSeQ5r83",
      "metadata": {
        "id": "r3yTZSeQ5r83"
      },
      "outputs": [],
      "source": []
    },
    {
      "cell_type": "code",
      "source": [],
      "metadata": {
        "id": "rbtCGEvH13Tr"
      },
      "id": "rbtCGEvH13Tr",
      "execution_count": null,
      "outputs": []
    },
    {
      "cell_type": "code",
      "source": [],
      "metadata": {
        "id": "LSoUZ-To2lYx"
      },
      "id": "LSoUZ-To2lYx",
      "execution_count": null,
      "outputs": []
    },
    {
      "cell_type": "code",
      "source": [],
      "metadata": {
        "id": "jIuhpCTX2lRo"
      },
      "id": "jIuhpCTX2lRo",
      "execution_count": null,
      "outputs": []
    },
    {
      "cell_type": "markdown",
      "id": "Jkg7YAnh5w6b",
      "metadata": {
        "id": "Jkg7YAnh5w6b"
      },
      "source": [
        "# Parte 5.2: Criação do segundo modelo, utilizando o segundo algoritmo.\n",
        "\n"
      ]
    },
    {
      "cell_type": "code",
      "execution_count": null,
      "id": "zIV_aHwV6Cm3",
      "metadata": {
        "id": "zIV_aHwV6Cm3"
      },
      "outputs": [],
      "source": []
    },
    {
      "cell_type": "code",
      "source": [],
      "metadata": {
        "id": "S-0ESQdD14Er"
      },
      "id": "S-0ESQdD14Er",
      "execution_count": null,
      "outputs": []
    },
    {
      "cell_type": "code",
      "source": [],
      "metadata": {
        "id": "YAIFcAlM2ma3"
      },
      "id": "YAIFcAlM2ma3",
      "execution_count": null,
      "outputs": []
    },
    {
      "cell_type": "code",
      "source": [],
      "metadata": {
        "id": "PHnsNmWA2mRu"
      },
      "id": "PHnsNmWA2mRu",
      "execution_count": null,
      "outputs": []
    },
    {
      "cell_type": "markdown",
      "id": "mER8WPQK6YlI",
      "metadata": {
        "id": "mER8WPQK6YlI"
      },
      "source": [
        "# Parte 5.3: Criação da arquitetura e treinamento do modelo de Redes Neurais com Keras"
      ]
    },
    {
      "cell_type": "code",
      "execution_count": null,
      "id": "T9EGZwMj7JMC",
      "metadata": {
        "id": "T9EGZwMj7JMC"
      },
      "outputs": [],
      "source": []
    },
    {
      "cell_type": "code",
      "source": [],
      "metadata": {
        "id": "PbBMR9Lw14lP"
      },
      "id": "PbBMR9Lw14lP",
      "execution_count": null,
      "outputs": []
    },
    {
      "cell_type": "code",
      "source": [],
      "metadata": {
        "id": "Fv99FSXf20Ko"
      },
      "id": "Fv99FSXf20Ko",
      "execution_count": null,
      "outputs": []
    },
    {
      "cell_type": "code",
      "source": [],
      "metadata": {
        "id": "ZT9uz2gD20Bn"
      },
      "id": "ZT9uz2gD20Bn",
      "execution_count": null,
      "outputs": []
    },
    {
      "cell_type": "markdown",
      "source": [
        "# Parte 6: Comparação das métricas dos modelos (utilize somente a acurácia nesse exemplo)"
      ],
      "metadata": {
        "id": "sZfU3Eim3kh3"
      },
      "id": "sZfU3Eim3kh3"
    },
    {
      "cell_type": "code",
      "source": [],
      "metadata": {
        "id": "3PZxe14a36w7"
      },
      "id": "3PZxe14a36w7",
      "execution_count": null,
      "outputs": []
    },
    {
      "cell_type": "code",
      "source": [],
      "metadata": {
        "id": "wOASV8dC36q1"
      },
      "id": "wOASV8dC36q1",
      "execution_count": null,
      "outputs": []
    },
    {
      "cell_type": "code",
      "source": [],
      "metadata": {
        "id": "X1m3kk3r36k1"
      },
      "id": "X1m3kk3r36k1",
      "execution_count": null,
      "outputs": []
    },
    {
      "cell_type": "code",
      "source": [],
      "metadata": {
        "id": "QybWDkHO36dl"
      },
      "id": "QybWDkHO36dl",
      "execution_count": null,
      "outputs": []
    },
    {
      "cell_type": "markdown",
      "id": "b895d716",
      "metadata": {
        "id": "b895d716"
      },
      "source": [
        "----------------------\n",
        "# **QUESTÃO 02**\n",
        "\n",
        "## **Diagnóstico médico: Diabetes no povo Pima**\n",
        "\n",
        "Esse dataset contém dados sobre incidência de diabetes em mulheres do Povo Pima (índios nativos norte americanos originários do atual Estado do Arizona). Contém 8 atributos biomédicos para 768 entradas anonimizadas, sendo 500 testados negativo para diabetes e 268 testados positivo para diabetes.\n",
        "\n",
        "Faça o download do dataset:\n",
        "\n",
        "https://www.kaggle.com/datasets/uciml/pima-indians-diabetes-database"
      ]
    },
    {
      "cell_type": "code",
      "execution_count": null,
      "id": "mJ2UOyox-iA3",
      "metadata": {
        "id": "mJ2UOyox-iA3"
      },
      "outputs": [],
      "source": []
    },
    {
      "cell_type": "code",
      "execution_count": null,
      "id": "fYBlkeJT-h2g",
      "metadata": {
        "id": "fYBlkeJT-h2g"
      },
      "outputs": [],
      "source": []
    },
    {
      "cell_type": "code",
      "source": [],
      "metadata": {
        "id": "YRLtcRuE3-dx"
      },
      "id": "YRLtcRuE3-dx",
      "execution_count": null,
      "outputs": []
    },
    {
      "cell_type": "code",
      "source": [],
      "metadata": {
        "id": "chECszo-3-Sp"
      },
      "id": "chECszo-3-Sp",
      "execution_count": null,
      "outputs": []
    }
  ],
  "metadata": {
    "colab": {
      "provenance": []
    },
    "kernelspec": {
      "display_name": "Python 3",
      "language": "python",
      "name": "python3"
    },
    "language_info": {
      "codemirror_mode": {
        "name": "ipython",
        "version": 3
      },
      "file_extension": ".py",
      "mimetype": "text/x-python",
      "name": "python",
      "nbconvert_exporter": "python",
      "pygments_lexer": "ipython3",
      "version": "3.9.5"
    }
  },
  "nbformat": 4,
  "nbformat_minor": 5
}